{
 "cells": [
  {
   "cell_type": "markdown",
   "id": "d94839ba",
   "metadata": {},
   "source": [
    "# Module: intervals\n",
    "- addval\n",
    "- divval\n",
    "- dsw_add\n",
    "- dsw_div\n",
    "- dsw_mult\n",
    "- dsw_sub\n",
    "- multval\n",
    "- scaleval\n",
    "- subval"
   ]
  },
  {
   "cell_type": "code",
   "execution_count": null,
   "id": "413d5b32",
   "metadata": {},
   "outputs": [],
   "source": []
  }
 ],
 "metadata": {
  "kernelspec": {
   "display_name": "Python 3 (ipykernel)",
   "language": "python",
   "name": "python3"
  },
  "language_info": {
   "codemirror_mode": {
    "name": "ipython",
    "version": 3
   },
   "file_extension": ".py",
   "mimetype": "text/x-python",
   "name": "python",
   "nbconvert_exporter": "python",
   "pygments_lexer": "ipython3",
   "version": "3.9.12"
  }
 },
 "nbformat": 4,
 "nbformat_minor": 5
}
