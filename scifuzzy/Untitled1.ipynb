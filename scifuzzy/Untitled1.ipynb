{
 "cells": [
  {
   "cell_type": "markdown",
   "id": "2e07bf44",
   "metadata": {},
   "source": [
    "https://www.geeksforgeeks.org/common-operations-on-fuzzy-set-with-example-and-code/"
   ]
  },
  {
   "cell_type": "code",
   "execution_count": null,
   "id": "07966263",
   "metadata": {},
   "outputs": [],
   "source": [
    "from fuzzywuzzy import fuzz\n",
    "from fuzzywuzzy import process"
   ]
  },
  {
   "cell_type": "markdown",
   "id": "610e1198",
   "metadata": {},
   "source": [
    "https://www.researchgate.net/post/How_do_I_make_Fuzzy_Rules_in_Python_Language"
   ]
  },
  {
   "cell_type": "code",
   "execution_count": null,
   "id": "04abdc73",
   "metadata": {},
   "outputs": [],
   "source": [
    "!pip install fuzzywuzzy"
   ]
  },
  {
   "cell_type": "code",
   "execution_count": 1,
   "id": "b1f9f244",
   "metadata": {},
   "outputs": [],
   "source": [
    "import numpy as np"
   ]
  },
  {
   "cell_type": "code",
   "execution_count": null,
   "id": "19a71752",
   "metadata": {},
   "outputs": [],
   "source": [
    "def intervaladd(interval1, interval2):\n",
    "    \n",
    "    # Handle arrays\n",
    "    if not isinstance(interval1,np.ndarray):\n",
    "        \n",
    "   "
   ]
  },
  {
   "cell_type": "code",
   "execution_count": null,
   "id": "1521da35",
   "metadata": {},
   "outputs": [],
   "source": [
    "import numpy as np \n",
    "def addval(interval1, interval2):\n",
    "\n",
    "    # Handle arrays\n",
    "    if not isinstance(interval1, np.ndarray):\n",
    "        interval1 = np.asarray(interval1)\n",
    "    if not isinstance(interval2, np.ndarray):\n",
    "        interval2 = np.asarray(interval2)\n",
    "\n",
    "    try:\n",
    "        return np.r_[interval1] + np.r_[interval2]\n",
    "    except Exception:\n",
    "        return interval1 + interval2"
   ]
  },
  {
   "cell_type": "code",
   "execution_count": null,
   "id": "f52dffc0",
   "metadata": {},
   "outputs": [],
   "source": [
    "np.r_."
   ]
  },
  {
   "cell_type": "code",
   "execution_count": null,
   "id": "d5315f84",
   "metadata": {},
   "outputs": [],
   "source": [
    "a,b,c,d= 1,3,4,5\n",
    "addval([a+b,c+d],[a+b,b+d])"
   ]
  },
  {
   "cell_type": "code",
   "execution_count": null,
   "id": "cb48db9c",
   "metadata": {},
   "outputs": [],
   "source": [
    "import skfuzzy as fuzzy"
   ]
  },
  {
   "cell_type": "code",
   "execution_count": null,
   "id": "cb13ff2a",
   "metadata": {},
   "outputs": [],
   "source": [
    "fuzzy.addval([a+b,c+d],[a+b,b+d])"
   ]
  },
  {
   "cell_type": "code",
   "execution_count": null,
   "id": "7881abe2",
   "metadata": {},
   "outputs": [],
   "source": [
    "[a+b,c+d],[a+b,b+d]"
   ]
  },
  {
   "cell_type": "markdown",
   "id": "7c42d0e5",
   "metadata": {},
   "source": [
    "https://www.geeksforgeeks.org/python-make-a-list-of-intervals-with-sequential-numbers/"
   ]
  },
  {
   "cell_type": "code",
   "execution_count": null,
   "id": "4ad28d5e",
   "metadata": {},
   "outputs": [],
   "source": [
    "def dsigmf(x, b1, c1, b2, c2):\n",
    "    return sigmf(x, b1, c=c1) - sigmf(x, b2, c=c2)\n",
    "\n",
    "\n",
    "\n",
    "def gaussmf(x, mean, sigma):\n",
    "    return np.exp(-((x - mean) ** 2.) / float(sigma) ** 2.)"
   ]
  },
  {
   "cell_type": "code",
   "execution_count": null,
   "id": "0942bfe5",
   "metadata": {},
   "outputs": [],
   "source": [
    "def sigmf(x, b, c):\n",
    "    return 1. / (1. + np.exp(- c * (x - b)))"
   ]
  },
  {
   "cell_type": "code",
   "execution_count": null,
   "id": "4ea3ea3d",
   "metadata": {},
   "outputs": [],
   "source": [
    "fuzzy.addval()"
   ]
  },
  {
   "cell_type": "code",
   "execution_count": null,
   "id": "c872a98e",
   "metadata": {},
   "outputs": [],
   "source": [
    "def gauss2mf(x, mean1, sigma1, mean2, sigma2):\n",
    "    assert mean1 <= mean2, 'mean1 <= mean2 is required.  See docstring.'\n",
    "    y = np.ones(len(x))\n",
    "    idx1 = x <= mean1\n",
    "    idx2 = x > mean2\n",
    "    y[idx1] = gaussmf(x[idx1], mean1, sigma1)\n",
    "    y[idx2] = gaussmf(x[idx2], mean2, sigma2)\n",
    "    return y"
   ]
  },
  {
   "cell_type": "code",
   "execution_count": null,
   "id": "4090e49e",
   "metadata": {},
   "outputs": [],
   "source": [
    "def gbellmf(x, a, b, c):\n",
    "    return 1. / (1. + np.abs((x - c) / a) ** (2 * b))\n",
    "\n",
    "\n",
    "\n",
    "def piecemf(x, abc):\n",
    "    a, b, c = abc\n",
    "    if c != x.max():\n",
    "        c = x.max()\n",
    "\n",
    "    assert a <= b and b <= c, '`abc` requires a <= b <= c.'\n",
    "\n",
    "    n = len(x)\n",
    "    y = np.zeros(n)\n",
    "\n",
    "    idx0 = _nearest(x, 0)[0]\n",
    "    idxa = _nearest(x, a)[0]\n",
    "    idxb = _nearest(x, b)[0]\n",
    "\n",
    "    n = np.r_[0:n - idx0]\n",
    "    y[idx0 + n] = n / float(c)\n",
    "    y[idx0:idxa] = 0\n",
    "    m = np.r_[0:idxb - idxa]\n",
    "    y[idxa:idxb] = b * m / (float(c) * (b - a))\n",
    "\n",
    "    return y / y.max()\n"
   ]
  },
  {
   "cell_type": "code",
   "execution_count": null,
   "id": "3d28cfc8",
   "metadata": {},
   "outputs": [],
   "source": [
    "def zmf(x, a, b):\n",
    "    assert a <= b, 'a <= b is required.'\n",
    "\n",
    "    y = np.ones(len(x))\n",
    "\n",
    "    idx = np.logical_and(a <= x, x < (a + b) / 2.)\n",
    "    y[idx] = 1 - 2. * ((x[idx] - a) / (b - a)) ** 2.\n",
    "\n",
    "    idx = np.logical_and((a + b) / 2. <= x, x <= b)\n",
    "    y[idx] = 2. * ((x[idx] - b) / (b - a)) ** 2.\n",
    "\n",
    "    idx = x >= b\n",
    "    y[idx] = 0\n",
    "\n",
    "    return y"
   ]
  },
  {
   "cell_type": "code",
   "execution_count": null,
   "id": "49b17a7a",
   "metadata": {},
   "outputs": [],
   "source": [
    "def trapmf(x, abcd):\n",
    "    assert len(abcd) == 4, 'abcd parameter must have exactly four elements.'\n",
    "    a, b, c, d = np.r_[abcd]\n",
    "    assert a <= b and b <= c and c <= d, 'abcd requires the four elements \\\n",
    "                                          a <= b <= c <= d.'\n",
    "    y = np.ones(len(x))\n",
    "\n",
    "    idx = np.nonzero(x <= b)[0]\n",
    "    y[idx] = trimf(x[idx], np.r_[a, b, b])\n",
    "\n",
    "    idx = np.nonzero(x >= c)[0]\n",
    "    y[idx] = trimf(x[idx], np.r_[c, c, d])\n",
    "\n",
    "    idx = np.nonzero(x < a)[0]\n",
    "    y[idx] = np.zeros(len(idx))\n",
    "\n",
    "    idx = np.nonzero(x > d)[0]\n",
    "    y[idx] = np.zeros(len(idx))\n",
    "\n",
    "    return y\n"
   ]
  },
  {
   "cell_type": "code",
   "execution_count": null,
   "id": "3c93ea40",
   "metadata": {},
   "outputs": [],
   "source": [
    "def smf(x, a, b):\n",
    "    assert a <= b, 'a <= b is required.'\n",
    "    y = np.ones(len(x))\n",
    "    idx = x <= a\n",
    "    y[idx] = 0\n",
    "\n",
    "    idx = np.logical_and(a <= x, x <= (a + b) / 2.)\n",
    "    y[idx] = 2. * ((x[idx] - a) / (b - a)) ** 2.\n",
    "\n",
    "    idx = np.logical_and((a + b) / 2. <= x, x <= b)\n",
    "    y[idx] = 1 - 2. * ((x[idx] - b) / (b - a)) ** 2.\n",
    "\n",
    "    return y"
   ]
  },
  {
   "cell_type": "code",
   "execution_count": null,
   "id": "dee5f7ee",
   "metadata": {},
   "outputs": [],
   "source": [
    "def psigmf(x, b1, c1, b2, c2):\n",
    "    return sigmf(x, b1, c1) * sigmf(x, b2, c2)"
   ]
  },
  {
   "cell_type": "code",
   "execution_count": null,
   "id": "b5e64ff0",
   "metadata": {},
   "outputs": [],
   "source": [
    "def pimf(x, a, b, c, d):\n",
    "    y = np.ones(len(x))\n",
    "    assert a <= b and b <= c and c <= d, 'a <= b <= c <= d is required.'\n",
    "\n",
    "    idx = x <= a\n",
    "    y[idx] = 0\n",
    "\n",
    "    idx = np.logical_and(a <= x, x <= (a + b) / 2.)\n",
    "    y[idx] = 2. * ((x[idx] - a) / (b - a)) ** 2.\n",
    "\n",
    "    idx = np.logical_and((a + b) / 2. < x, x <= b)\n",
    "    y[idx] = 1 - 2. * ((x[idx] - b) / (b - a)) ** 2.\n",
    "\n",
    "    idx = np.logical_and(c <= x, x < (c + d) / 2.)\n",
    "    y[idx] = 1 - 2. * ((x[idx] - c) / (d - c)) ** 2.\n",
    "\n",
    "    idx = np.logical_and((c + d) / 2. <= x, x <= d)\n",
    "    y[idx] = 2. * ((x[idx] - d) / (d - c)) ** 2.\n",
    "\n",
    "    idx = x >= d\n",
    "    y[idx] = 0\n",
    "\n",
    "    return y\n"
   ]
  },
  {
   "cell_type": "code",
   "execution_count": null,
   "id": "66f08d43",
   "metadata": {},
   "outputs": [],
   "source": []
  },
  {
   "cell_type": "code",
   "execution_count": null,
   "id": "0437cf8a",
   "metadata": {},
   "outputs": [],
   "source": []
  },
  {
   "cell_type": "code",
   "execution_count": null,
   "id": "841b4c25",
   "metadata": {},
   "outputs": [],
   "source": []
  }
 ],
 "metadata": {
  "kernelspec": {
   "display_name": "Python 3 (ipykernel)",
   "language": "python",
   "name": "python3"
  },
  "language_info": {
   "codemirror_mode": {
    "name": "ipython",
    "version": 3
   },
   "file_extension": ".py",
   "mimetype": "text/x-python",
   "name": "python",
   "nbconvert_exporter": "python",
   "pygments_lexer": "ipython3",
   "version": "3.9.12"
  }
 },
 "nbformat": 4,
 "nbformat_minor": 5
}
