{
 "cells": [
  {
   "cell_type": "markdown",
   "id": "415aa9ea",
   "metadata": {},
   "source": [
    "# Membership functions\n",
    "\n",
    "\n",
    "- `skfuzzy.membership.dsigmf(x, b1, c1, b2, c2)`\tDifference of two fuzzy sigmoid membership functions.\n",
    "- `skfuzzy.membership.gauss2mf(x, mean1, ...)`\tGaussian fuzzy membership function of two combined Gaussians.\n",
    "- `skfuzzy.membership.gaussmf(x, mean, sigma)`\tGaussian fuzzy membership function.\n",
    "- `skfuzzy.membership.gbellmf(x, a, b, c)`\tGeneralized Bell function fuzzy membership generator.\n",
    "- `skfuzzy.membership.piecemf(x, abc)`\tPiecewise linear membership function (particularly used in FIRE filters).\n",
    "- `skfuzzy.membership.pimf(x, a, b, c, d)`\tPi-function fuzzy membership generator.\n",
    "- `skfuzzy.membership.psigmf(x, b1, c1, b2, c2)`\tProduct of two sigmoid membership functions.\n",
    "- `skfuzzy.membership.sigmf(x, b, c)`\tThe basic sigmoid membership function generator.\n",
    "- `skfuzzy.membership.smf(x, a, b)`\tS-function fuzzy membership generator.\n",
    "- `skfuzzy.membership.trapmf(x, abcd)`\tTrapezoidal membership function generator.\n",
    "- `skfuzzy.membership.trimf(x, abc)`\tTriangular membership function generator.\n",
    "- `skfuzzy.membership.zmf(x, a, b)`\tZ-function fuzzy membership generator."
   ]
  },
  {
   "cell_type": "code",
   "execution_count": null,
   "id": "ffcc2e1b",
   "metadata": {},
   "outputs": [],
   "source": []
  },
  {
   "cell_type": "code",
   "execution_count": null,
   "id": "bf66a455",
   "metadata": {},
   "outputs": [],
   "source": []
  },
  {
   "cell_type": "markdown",
   "id": "7ba2bd0e",
   "metadata": {},
   "source": [
    "https://chriskyfung.github.io/blog/comp-sci/fuzzy-logic"
   ]
  },
  {
   "cell_type": "markdown",
   "id": "a05e284c",
   "metadata": {},
   "source": [
    "https://maxhalford.github.io/blog/fuzzy-regex-matching-in-python/"
   ]
  },
  {
   "cell_type": "markdown",
   "id": "7edad00c",
   "metadata": {},
   "source": [
    "https://codecrucks.com/mamdani-fuzzy-inference-system-concept/"
   ]
  },
  {
   "cell_type": "markdown",
   "id": "477abcc9",
   "metadata": {},
   "source": [
    "https://towardsdatascience.com/fuzzy-inference-system-implementation-in-python-8af88d1f0a6e"
   ]
  },
  {
   "cell_type": "markdown",
   "id": "a651640c",
   "metadata": {},
   "source": [
    "https://www.geeksforgeeks.org/comparison-between-mamdani-and-sugeno-fuzzy-inference-system/"
   ]
  },
  {
   "cell_type": "markdown",
   "id": "4979cb05",
   "metadata": {},
   "source": [
    "https://www.cs.princeton.edu/courses/archive/fall07/cos436/HIDDEN/Knapp/fuzzy004.htm"
   ]
  },
  {
   "cell_type": "markdown",
   "id": "646292c3",
   "metadata": {},
   "source": [
    "https://www.tutorialspoint.com/fuzzy_logic/index.htm"
   ]
  },
  {
   "cell_type": "markdown",
   "id": "2019d1d3",
   "metadata": {},
   "source": [
    "https://www.geeksforgeeks.org/fuzzywuzzy-python-library/"
   ]
  },
  {
   "cell_type": "markdown",
   "id": "adb89f1f",
   "metadata": {},
   "source": [
    "https://www.atlantis-press.com/journals/ijcis/125945415/view"
   ]
  },
  {
   "cell_type": "code",
   "execution_count": null,
   "id": "97c9eac3",
   "metadata": {},
   "outputs": [],
   "source": []
  },
  {
   "cell_type": "code",
   "execution_count": null,
   "id": "3dba77bf",
   "metadata": {},
   "outputs": [],
   "source": []
  },
  {
   "cell_type": "markdown",
   "id": "c1dd4ef6",
   "metadata": {},
   "source": [
    "https://in.mathworks.com/help/fuzzy/"
   ]
  },
  {
   "cell_type": "markdown",
   "id": "b5b297d8",
   "metadata": {},
   "source": [
    "**Get Started**\n",
    "- Learn the basics of Fuzzy Logic Toolbox\n",
    "\n",
    "**Fuzzy Inference System Modeling**\n",
    "- Build fuzzy inference systems and fuzzy trees\n",
    "\n",
    "**Fuzzy Inference System Tuning**\n",
    "- Tune membership functions and rules of fuzzy systems\n",
    "\n",
    "**Data Clustering**\n",
    "- Find clusters in input/output data using fuzzy c-means or subtractive clustering\n",
    "\n",
    "**Fuzzy Logic in Simulink**\n",
    "- Simulate systems in Simulink\n",
    "\n",
    "**Deployment**\n",
    "- Generate code for evaluating fuzzy systems"
   ]
  },
  {
   "cell_type": "markdown",
   "id": "6b787666",
   "metadata": {},
   "source": [
    "# Fuzzy Inference System Modeling\n",
    "### Create Fuzzy Systems\n",
    "- `mamfis`\tMamdani fuzzy inference system\n",
    "- `sugfis`\tSugeno fuzzy inference system\n",
    "- `genfis`\tGenerate fuzzy inference system object from data\n",
    "- `genfisOptions`\tOption set for genfis function\n",
    "- `mamfistype2`\tInterval type-2 Mamdani fuzzy inference system\n",
    "- `sugfistype2`\tInterval type-2 Sugeno fuzzy inference system\n",
    "- `fistree`\tNetwork of connected fuzzy inference systems\n",
    "- `convertToSugeno`\tConvert Mamdani fuzzy inference system into Sugeno fuzzy inference system\n",
    "- `convertToType1`\tConvert type-2 fuzzy inference system into type-1 fuzzy inference system\n",
    "- `convertToType2`\tConvert type-1 fuzzy inference system into type-2 fuzzy inference system\n",
    "- `convertToStruct`\tConvert fuzzy inference system object into a structure\n",
    "- `convertfis`\tConvert previous versions of fuzzy inference data in current format\n",
    "\n",
    "### Specify Input and Output Variables\n",
    "- `addInput`\tAdd input variable to fuzzy inference system\n",
    "- `addOutput`\tAdd output variable to fuzzy inference system\n",
    "- `removeInput`\tRemove input variable from fuzzy inference system\n",
    "- `removeOutput`\tRemove output variable from fuzzy inference system\n",
    "- `fisvar`\tFuzzy variable\n",
    "\n",
    "### Specify Membership Functions\n",
    "- `addMF`\tAdd membership function to fuzzy variable\n",
    "- `removeMF`\tRemove membership function from fuzzy variable\n",
    "- `fismf`\tFuzzy membership function\n",
    "- `fismftype2`\tInterval type-2 fuzzy membership function\n",
    "\n",
    "### Specify Fuzzy Rules\n",
    "- `addRule`\tAdd rule to fuzzy inference system\n",
    "- `showrule`\tDisplay fuzzy inference system rules\n",
    "- `fisrule`\tFuzzy rule\n",
    "- `update`\tUpdate fuzzy rule using fuzzy inference system\n",
    "\n",
    "### Evaluate and Visualize Fuzzy Systems\n",
    "- `evalfis`\tEvaluate fuzzy inference system\n",
    "- `evalfisOptions`\tOption set for evalfis function\n",
    "- `plotfis`\tDisplay fuzzy inference system\n",
    "- `plotmf`\tPlot membership functions for input or output variable\n",
    "- `gensurf`\tGenerate fuzzy inference system output surface\n",
    "- `gensurfOptions`\tOption set for gensurf function\n",
    "\n",
    "### Import and Export\n",
    "- `readfis`\tLoad fuzzy inference system from file\n",
    "- `writeFIS`\tSave fuzzy inference system to file\n",
    "\n",
    "### Construct Custom Fuzzy Systems\n",
    "- `evalmf`\tEvaluate fuzzy membership function\n",
    "- `gaussmf`\tGaussian membership function\n",
    "- `gbellmf`\tGeneralized bell-shaped membership function\n",
    "- `trimf`\tTriangular membership function\n",
    "- `dsigmf`\tDifference between two sigmoidal membership functions\n",
    "- `gauss2mf`\tGaussian combination membership function\n",
    "- `linsmf`\tLinear s-shaped saturation membership function\n",
    "- `linzmf`\tLinear z-shaped saturation membership function\n",
    "- `pimf`\tPi-shaped membership function\n",
    "- `psigmf`\tProduct of two sigmoidal membership functions\n",
    "- `sigmf`\tSigmoidal membership function\n",
    "- `smf`\tS-shaped membership function\n",
    "- `trapmf`\tTrapezoidal membership function\n",
    "- `zmf`\tZ-shaped membership function\n",
    "- `defuzz`\tDefuzzify membership function\n",
    "- `probor`\tProbabilistic OR\n",
    "- `fuzarith`\tPerform fuzzy arithmetic\n",
    "\n",
    "# Fuzzy Inference System Tuning\n",
    "### Tune Fuzzy Systems\n",
    "- `tunefis`\tTune fuzzy inference system or tree of fuzzy inference systems\n",
    "- `tunefisOptions`\tOption set for tunefis function\n",
    "- `getTunableSettings`\tObtain tunable settings from fuzzy inference system\n",
    "- `setTunable`\tSet specified parameter settings as tunable or nontunable\n",
    "- `getTunableValues`\tObtain values of tunable parameters from fuzzy inference system\n",
    "- `setTunableValues`\tSpecify tunable parameter values of a fuzzy inference system\n",
    "\n",
    "### Train ANFIS\n",
    "- `anfis`\tTune Sugeno-type fuzzy inference system using training data\n",
    "- `anfisOptions`\tOption set for anfis function\n",
    "\n",
    "### Tunable Settings\n",
    "- `RuleSettings`\tTunable parameter settings of fuzzy rules\n",
    "- `VariableSettings`\tTunable parameter settings of fuzzy variables\n",
    "- `MembershipFunctionSettings`\tTunable parameter settings for fuzzy membership functions\n",
    "- `MembershipFunctionSettingsType2`\tTunable parameter settings for type-2 fuzzy membership functions\n",
    "- `ClauseParameters`\tParameter settings for rule clauses\n",
    "- `NumericParameters`\tTunable numeric parameter settings of membership functions\n",
    "\n",
    "# Data Clustering\n",
    "- `fcm`\tFuzzy c-means clustering\n",
    "- `subclust`\tFind cluster centers using subtractive clustering\n",
    "- `findcluster`\tOpen clustering tool\n",
    "\n",
    "# Deployment\n",
    "- `evalfis`\tEvaluate fuzzy inference system\n",
    "- `evalfisOptions`\tOption set for evalfis function\n",
    "- `getFISCodeGenerationData`\tCreate homogeneous fuzzy inference system structure"
   ]
  },
  {
   "cell_type": "code",
   "execution_count": null,
   "id": "ebf19ff8",
   "metadata": {},
   "outputs": [],
   "source": []
  }
 ],
 "metadata": {
  "kernelspec": {
   "display_name": "Python 3 (ipykernel)",
   "language": "python",
   "name": "python3"
  },
  "language_info": {
   "codemirror_mode": {
    "name": "ipython",
    "version": 3
   },
   "file_extension": ".py",
   "mimetype": "text/x-python",
   "name": "python",
   "nbconvert_exporter": "python",
   "pygments_lexer": "ipython3",
   "version": "3.9.12"
  }
 },
 "nbformat": 4,
 "nbformat_minor": 5
}
