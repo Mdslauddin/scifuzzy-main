{
 "cells": [
  {
   "cell_type": "code",
   "execution_count": 14,
   "id": "625ff074",
   "metadata": {},
   "outputs": [],
   "source": [
    "import numpy as np \n",
    "import skfuzzy as fuzz\n",
    "import matplotlib.pyplot as plt "
   ]
  },
  {
   "cell_type": "code",
   "execution_count": null,
   "id": "81f3cd4e",
   "metadata": {},
   "outputs": [],
   "source": [
    "x = np.arange(0, 10.1, 0.1)\n",
    "y = fuzz.trimf(x, [5,7,9])"
   ]
  },
  {
   "cell_type": "code",
   "execution_count": null,
   "id": "9fe13c7c",
   "metadata": {},
   "outputs": [],
   "source": []
  },
  {
   "cell_type": "code",
   "execution_count": null,
   "id": "2eecc2a8",
   "metadata": {},
   "outputs": [],
   "source": [
    "plt.plot(x,y)\n",
    "\n",
    "plt.show()"
   ]
  },
  {
   "cell_type": "code",
   "execution_count": 6,
   "id": "1377026e",
   "metadata": {},
   "outputs": [],
   "source": [
    "import numpy as np\n",
    "def trimf(x, abc):\n",
    "    assert len(abc) == 3, 'abc parameter must have exactly three elements.'\n",
    "    a, b, c = np.r_[abc]     # Zero-indexing in Python\n",
    "    assert a <= b and b <= c, 'abc requires the three elements a <= b <= c.'\n",
    "\n",
    "    y = np.zeros(len(x))\n",
    "\n",
    "    # Left side\n",
    "    if a != b:\n",
    "        idx = np.nonzero(np.logical_and(a < x, x < b))[0]\n",
    "        y[idx] = (x[idx] - a) / float(b - a)\n",
    "\n",
    "    # Right side\n",
    "    if b != c:\n",
    "        idx = np.nonzero(np.logical_and(b < x, x < c))[0]\n",
    "        y[idx] = (c - x[idx]) / float(c - b)\n",
    "\n",
    "    idx = np.nonzero(x == b)\n",
    "    y[idx] = 1\n",
    "    return y\n"
   ]
  },
  {
   "cell_type": "code",
   "execution_count": 7,
   "id": "ef910859",
   "metadata": {},
   "outputs": [],
   "source": [
    "import numpy as np \n",
    "import matplotlib.pyplot as plt \n",
    "from membership import trimf\n",
    "x = np.arange(0, 10.1, 0.1)\n",
    "y = trimf(x, [5,7,9])"
   ]
  },
  {
   "cell_type": "code",
   "execution_count": 2,
   "id": "ddcd844e",
   "metadata": {
    "scrolled": false
   },
   "outputs": [
    {
     "data": {
      "image/png": "[encoded data removed]",
      "text/plain": [
       "<Figure size 432x288 with 1 Axes>"
      ]
     },
     "metadata": {
      "needs_background": "light"
     },
     "output_type": "display_data"
    }
   ],
   "source": [
    "plt.plot(x,y)\n",
    "plt.show()"
   ]
  },
  {
   "cell_type": "code",
   "execution_count": 20,
   "id": "42fc7d65",
   "metadata": {},
   "outputs": [],
   "source": [
    "def triangular_membership(x, vertex, middle, right):\n",
    "    if x < vertex:\n",
    "        return 0\n",
    "    elif vertex <= x < middle:\n",
    "        return (x - vertex) / (middle - vertex)\n",
    "    elif middle <= x < right:\n",
    "        return (right - x) / (right - middle)\n",
    "    else:\n",
    "        return 0\n"
   ]
  },
  {
   "cell_type": "code",
   "execution_count": 22,
   "id": "e6590e3c",
   "metadata": {},
   "outputs": [
    {
     "data": {
      "text/plain": [
       "0.5"
      ]
     },
     "execution_count": 22,
     "metadata": {},
     "output_type": "execute_result"
    }
   ],
   "source": [
    "triangular_membership(2,1,3,5)"
   ]
  },
  {
   "cell_type": "code",
   "execution_count": null,
   "id": "f523d822",
   "metadata": {},
   "outputs": [],
   "source": []
  },
  {
   "cell_type": "code",
   "execution_count": 19,
   "id": "8fd9c7fb",
   "metadata": {},
   "outputs": [
    {
     "data": {
      "text/plain": [
       "(array([ 0. ,  0.1,  0.2,  0.3,  0.4,  0.5,  0.6,  0.7,  0.8,  0.9,  1. ,\n",
       "         1.1,  1.2,  1.3,  1.4,  1.5,  1.6,  1.7,  1.8,  1.9,  2. ,  2.1,\n",
       "         2.2,  2.3,  2.4,  2.5,  2.6,  2.7,  2.8,  2.9,  3. ,  3.1,  3.2,\n",
       "         3.3,  3.4,  3.5,  3.6,  3.7,  3.8,  3.9,  4. ,  4.1,  4.2,  4.3,\n",
       "         4.4,  4.5,  4.6,  4.7,  4.8,  4.9,  5. ,  5.1,  5.2,  5.3,  5.4,\n",
       "         5.5,  5.6,  5.7,  5.8,  5.9,  6. ,  6.1,  6.2,  6.3,  6.4,  6.5,\n",
       "         6.6,  6.7,  6.8,  6.9,  7. ,  7.1,  7.2,  7.3,  7.4,  7.5,  7.6,\n",
       "         7.7,  7.8,  7.9,  8. ,  8.1,  8.2,  8.3,  8.4,  8.5,  8.6,  8.7,\n",
       "         8.8,  8.9,  9. ,  9.1,  9.2,  9.3,  9.4,  9.5,  9.6,  9.7,  9.8,\n",
       "         9.9, 10. ]),\n",
       " array([0.  , 0.  , 0.  , 0.  , 0.  , 0.  , 0.  , 0.  , 0.  , 0.  , 0.  ,\n",
       "        0.  , 0.  , 0.  , 0.  , 0.  , 0.  , 0.  , 0.  , 0.  , 0.  , 0.  ,\n",
       "        0.  , 0.  , 0.  , 0.  , 0.  , 0.  , 0.  , 0.  , 0.  , 0.  , 0.  ,\n",
       "        0.  , 0.  , 0.  , 0.  , 0.  , 0.  , 0.  , 0.  , 0.  , 0.  , 0.  ,\n",
       "        0.  , 0.  , 0.  , 0.  , 0.  , 0.  , 0.  , 0.05, 0.1 , 0.15, 0.2 ,\n",
       "        0.25, 0.3 , 0.35, 0.4 , 0.45, 0.5 , 0.55, 0.6 , 0.65, 0.7 , 0.75,\n",
       "        0.8 , 0.85, 0.9 , 0.95, 1.  , 0.95, 0.9 , 0.85, 0.8 , 0.75, 0.7 ,\n",
       "        0.65, 0.6 , 0.55, 0.5 , 0.45, 0.4 , 0.35, 0.3 , 0.25, 0.2 , 0.15,\n",
       "        0.1 , 0.05, 0.  , 0.  , 0.  , 0.  , 0.  , 0.  , 0.  , 0.  , 0.  ,\n",
       "        0.  , 0.  ]))"
      ]
     },
     "execution_count": 19,
     "metadata": {},
     "output_type": "execute_result"
    }
   ],
   "source": [
    "x,fuzz.trimf(x,[5,7,9])"
   ]
  },
  {
   "cell_type": "code",
   "execution_count": null,
   "id": "5cc55f3d",
   "metadata": {},
   "outputs": [],
   "source": []
  },
  {
   "cell_type": "code",
   "execution_count": null,
   "id": "59cc67c9",
   "metadata": {},
   "outputs": [],
   "source": []
  },
  {
   "cell_type": "code",
   "execution_count": null,
   "id": "36559468",
   "metadata": {},
   "outputs": [],
   "source": []
  },
  {
   "cell_type": "code",
   "execution_count": null,
   "id": "df149085",
   "metadata": {},
   "outputs": [],
   "source": []
  },
  {
   "cell_type": "code",
   "execution_count": null,
   "id": "b314cc75",
   "metadata": {},
   "outputs": [],
   "source": []
  },
  {
   "cell_type": "code",
   "execution_count": null,
   "id": "d97d63c1",
   "metadata": {},
   "outputs": [],
   "source": []
  },
  {
   "cell_type": "code",
   "execution_count": null,
   "id": "5e63da26",
   "metadata": {},
   "outputs": [],
   "source": []
  },
  {
   "cell_type": "code",
   "execution_count": null,
   "id": "4f59e690",
   "metadata": {},
   "outputs": [],
   "source": []
  },
  {
   "cell_type": "code",
   "execution_count": null,
   "id": "f4b8bb64",
   "metadata": {},
   "outputs": [],
   "source": []
  },
  {
   "cell_type": "code",
   "execution_count": null,
   "id": "d161ee4b",
   "metadata": {},
   "outputs": [],
   "source": []
  },
  {
   "cell_type": "code",
   "execution_count": null,
   "id": "182cca3c",
   "metadata": {},
   "outputs": [],
   "source": [
    "def fuzzy_intersection(A, B):\n",
    "    \"\"\"\n",
    "    Perform the intersection of two fuzzy sets.\n",
    "    \n",
    "    Parameters\n",
    "    ----------\n",
    "    A : numpy array\n",
    "        The membership function of fuzzy set A.\n",
    "    B : numpy array\n",
    "        The membership function of fuzzy set B.\n",
    "    \n",
    "    Returns\n",
    "    -------\n",
    "    C : numpy array\n",
    "        The membership function of the intersection of fuzzy sets A and B.\n",
    "    \"\"\"\n",
    "    C = np.minimum(A, B)\n",
    "    return C\n"
   ]
  },
  {
   "cell_type": "code",
   "execution_count": null,
   "id": "3209443a",
   "metadata": {},
   "outputs": [],
   "source": [
    "def fuzzy_union(A, B):\n",
    "    def union(x):\n",
    "        return min(1, max(A(x), B(x)))\n",
    "    return union\n"
   ]
  },
  {
   "cell_type": "code",
   "execution_count": null,
   "id": "ce61546f",
   "metadata": {},
   "outputs": [],
   "source": [
    "fuzzy_union(A,B)"
   ]
  },
  {
   "cell_type": "code",
   "execution_count": null,
   "id": "48802c4f",
   "metadata": {},
   "outputs": [],
   "source": [
    "np.fmax(A,B)"
   ]
  },
  {
   "cell_type": "code",
   "execution_count": null,
   "id": "b790a312",
   "metadata": {},
   "outputs": [],
   "source": []
  },
  {
   "cell_type": "code",
   "execution_count": null,
   "id": "232a1b65",
   "metadata": {},
   "outputs": [],
   "source": [
    "import numpy as np\n",
    "import skfuzzy as fuzz\n",
    "\n",
    "# Define the fuzzy sets\n",
    "x = np.arange(0, 11, 1)\n",
    "A = fuzz.trimf(x, [0, 0, 5])\n",
    "B = fuzz.trimf(x, [0, 5, 10])\n",
    "\n",
    "# Perform fuzzy logic operations\n",
    "C = np.fmax(A, B)  # union\n",
    "D = np.fmin(A, B)  # intersection\n",
    "E = np.fabs(A - B)  # difference\n",
    "\n",
    "# Plot the results\n",
    "import matplotlib.pyplot as plt\n",
    "\n",
    "plt.plot(x, A, 'b', label='A')\n",
    "plt.plot(x, B, 'g', label='B')\n",
    "plt.plot(x, C, 'r', label='C (A union B)')\n",
    "plt.plot(x, D, 'c', label='D (A intersection B)')\n",
    "plt.plot(x, E, 'm', label='E (A difference B)')\n",
    "plt.legend()\n",
    "plt.show()\n"
   ]
  },
  {
   "cell_type": "code",
   "execution_count": null,
   "id": "dd77c031",
   "metadata": {},
   "outputs": [],
   "source": [
    "def triangular_membership_function(minimum, maximum, peak):\n",
    "    def membership_function(x):\n",
    "        if x < minimum or x > maximum:\n",
    "            return 0\n",
    "        elif x < peak:\n",
    "            return (x - minimum) / (peak - minimum)\n",
    "        else:\n",
    "            return (maximum - x) / (maximum - peak)\n",
    "    return membership_function\n"
   ]
  },
  {
   "cell_type": "code",
   "execution_count": null,
   "id": "d632ab57",
   "metadata": {},
   "outputs": [],
   "source": [
    "triangular_membership_function(A,B,0)"
   ]
  },
  {
   "cell_type": "code",
   "execution_count": null,
   "id": "db88fcaa",
   "metadata": {},
   "outputs": [],
   "source": [
    "A,B,C"
   ]
  },
  {
   "cell_type": "code",
   "execution_count": null,
   "id": "c76e46f5",
   "metadata": {},
   "outputs": [],
   "source": []
  },
  {
   "cell_type": "code",
   "execution_count": null,
   "id": "14a5c7f2",
   "metadata": {},
   "outputs": [],
   "source": []
  },
  {
   "cell_type": "code",
   "execution_count": null,
   "id": "01718833",
   "metadata": {},
   "outputs": [],
   "source": [
    "fuzzy_intersection(A,B)\n",
    "plt.plot(x,A)\n",
    "plt.plot(x,B)"
   ]
  },
  {
   "cell_type": "code",
   "execution_count": null,
   "id": "e7c01e27",
   "metadata": {},
   "outputs": [],
   "source": []
  },
  {
   "cell_type": "code",
   "execution_count": null,
   "id": "8d52094b",
   "metadata": {},
   "outputs": [],
   "source": [
    "import numpy as np"
   ]
  },
  {
   "cell_type": "code",
   "execution_count": null,
   "id": "dd5bf334",
   "metadata": {},
   "outputs": [],
   "source": [
    "def min(A, B):\n",
    "    if A.shape[0] != B.shape[0]:\n",
    "        print(\"Error: size of A does not equal size of B\")\n",
    "        return 0\n",
    "    print(A, B, '\\n')\n",
    "    C = np.zeros((A.shape[0], B.shape[0]))\n",
    "    for i in range(A.shape[0]):\n",
    "        for j in range(B.shape[0]):\n",
    "            if A[i] < B[j]:\n",
    "                C[i][j] = A[i]\n",
    "            if A[i] >= B[j]:\n",
    "                C[i][j] = B[j]\n",
    "        print(C[i])\n",
    "    return C"
   ]
  },
  {
   "cell_type": "code",
   "execution_count": null,
   "id": "6427823a",
   "metadata": {},
   "outputs": [],
   "source": [
    "def max(A, B):\n",
    "    if A.shape[0] != B.shape[0]:\n",
    "        print(\"Error: size of A does not equal size of B\")\n",
    "        return 0\n",
    "    print(A, B, '\\n')\n",
    "    C = np.zeros((A.shape[0], B.shape[0]))\n",
    "    for i in range(A.shape[0]):\n",
    "        for j in range(B.shape[0]):\n",
    "            if A[i] > B[j]:\n",
    "                C[i][j] = A[i]\n",
    "            if A[i] <= B[j]:\n",
    "                C[i][j] = B[j]\n",
    "        print(C[i])\n",
    "    return C\n"
   ]
  },
  {
   "cell_type": "code",
   "execution_count": null,
   "id": "b4e199cb",
   "metadata": {},
   "outputs": [],
   "source": [
    "def min_max(A, B):\n",
    "    C = np.zeros(A.shape[0])\n",
    "    for i in range(A.shape[0]):\n",
    "        for j in range(B.shape[0]):\n",
    "            if A[i] < B[i][j]:\n",
    "                B[j][i] = A[i]\n",
    "            if A[i] >= B[i][j]:\n",
    "                continue\n",
    "    B = np.rot90(B, 3)\n",
    "    for i in range (C.shape[0]):\n",
    "        print(B[i])\n",
    "        C[i] = np.amax(B[i])\n",
    "    print(C)\n",
    "    return C"
   ]
  },
  {
   "cell_type": "code",
   "execution_count": null,
   "id": "3ebbd0d2",
   "metadata": {
    "scrolled": true
   },
   "outputs": [],
   "source": [
    "from fuzzywuzzy import fuzz\n",
    "\n",
    "# Fuzzy matching with the Ratio method\n",
    "fuzz.ratio(\"this is a test\", \"this is a test!\")  # Returns 100"
   ]
  },
  {
   "cell_type": "code",
   "execution_count": null,
   "id": "195cea55",
   "metadata": {},
   "outputs": [],
   "source": [
    "fuzz.ratio(\"this is a test\", \"this test a is\") # Returns 100"
   ]
  },
  {
   "cell_type": "code",
   "execution_count": null,
   "id": "f4f6aff2",
   "metadata": {},
   "outputs": [],
   "source": [
    "fuzz.ratio(\"this is a test\", \"this is a test.\")  # Returns 90"
   ]
  },
  {
   "cell_type": "code",
   "execution_count": null,
   "id": "d5cd3832",
   "metadata": {},
   "outputs": [],
   "source": [
    "fuzz.ratio(\"this is a test\", \"this is test a\") # Returns 90"
   ]
  },
  {
   "cell_type": "code",
   "execution_count": null,
   "id": "35c51933",
   "metadata": {},
   "outputs": [],
   "source": [
    "fuzz.ratio(\"this is a test\", \"this is a\")  # Returns 86"
   ]
  },
  {
   "cell_type": "code",
   "execution_count": null,
   "id": "305a6f80",
   "metadata": {},
   "outputs": [],
   "source": [
    "from fuzzywuzzy import fuzz\n",
    "\n",
    "# Fuzzy matching with the Ratio method\n",
    "string1 = \"this is a test\"\n",
    "string2 = \"this is a test!\"\n",
    "\n",
    "ratio = fuzz.ratio(string1, string2)\n",
    "print(ratio)  # Output: 100\n"
   ]
  },
  {
   "cell_type": "code",
   "execution_count": null,
   "id": "1bc124ae",
   "metadata": {},
   "outputs": [],
   "source": [
    "len(string1),len(string2)"
   ]
  },
  {
   "cell_type": "code",
   "execution_count": null,
   "id": "7dfad028",
   "metadata": {
    "scrolled": true
   },
   "outputs": [],
   "source": [
    "string1[0:], string2[0:0]"
   ]
  },
  {
   "cell_type": "code",
   "execution_count": null,
   "id": "9f2e048c",
   "metadata": {
    "scrolled": true
   },
   "outputs": [],
   "source": [
    "a = 'this is test'\n",
    "b = 'test is this'\n",
    "fuzz.ratio(a,b)"
   ]
  },
  {
   "cell_type": "code",
   "execution_count": null,
   "id": "40e62369",
   "metadata": {},
   "outputs": [],
   "source": [
    "14*100 , 15*100"
   ]
  },
  {
   "cell_type": "code",
   "execution_count": null,
   "id": "56421f18",
   "metadata": {},
   "outputs": [],
   "source": [
    "(14+15)"
   ]
  },
  {
   "cell_type": "code",
   "execution_count": null,
   "id": "d2e942b8",
   "metadata": {},
   "outputs": [],
   "source": [
    "14/100,15/100"
   ]
  },
  {
   "cell_type": "code",
   "execution_count": null,
   "id": "a0a6822d",
   "metadata": {},
   "outputs": [],
   "source": [
    "14"
   ]
  }
 ],
 "metadata": {
  "kernelspec": {
   "display_name": "Python 3 (ipykernel)",
   "language": "python",
   "name": "python3"
  },
  "language_info": {
   "codemirror_mode": {
    "name": "ipython",
    "version": 3
   },
   "file_extension": ".py",
   "mimetype": "text/x-python",
   "name": "python",
   "nbconvert_exporter": "python",
   "pygments_lexer": "ipython3",
   "version": "3.9.12"
  }
 },
 "nbformat": 4,
 "nbformat_minor": 5
}
